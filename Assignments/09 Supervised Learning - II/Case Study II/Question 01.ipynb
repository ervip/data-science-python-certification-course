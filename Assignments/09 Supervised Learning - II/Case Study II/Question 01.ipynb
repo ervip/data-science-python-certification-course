{
 "cells": [
  {
   "cell_type": "code",
   "execution_count": null,
   "metadata": {},
   "outputs": [],
   "source": [
    "\"\"\"\n",
    "Objective:\n",
    "• Practice Naive Bayes algorithm-based classification.\n",
    "• Identify the predictors that can be of influence by experiment.\n",
    "\"\"\""
   ]
  },
  {
   "cell_type": "code",
   "execution_count": 11,
   "metadata": {},
   "outputs": [],
   "source": [
    "import pandas as pd\n",
    "from sklearn.model_selection import train_test_split\n",
    "from sklearn.naive_bayes import GaussianNB\n",
    "from sklearn import metrics"
   ]
  },
  {
   "cell_type": "code",
   "execution_count": 4,
   "metadata": {},
   "outputs": [],
   "source": [
    "\"\"\"\n",
    "Load the kinematics dataset as measured on mobile sensors from the file \n",
    "“run_or_walk.csv”. List out the columns in the dataset.\n",
    "\"\"\"\n",
    "\n",
    "CSV_PATH = r'D:\\CourseWork\\data-science-python-certification-course\\Assignments\\09 Supervised Learning - II\\Case Study II\\resources\\run_or_walk.csv'\n",
    "df = pd.read_csv(CSV_PATH)"
   ]
  },
  {
   "cell_type": "code",
   "execution_count": 5,
   "metadata": {},
   "outputs": [
    {
     "name": "stdout",
     "output_type": "stream",
     "text": [
      "<class 'pandas.core.frame.DataFrame'>\n",
      "RangeIndex: 88588 entries, 0 to 88587\n",
      "Data columns (total 11 columns):\n",
      " #   Column          Non-Null Count  Dtype  \n",
      "---  ------          --------------  -----  \n",
      " 0   date            88588 non-null  object \n",
      " 1   time            88588 non-null  object \n",
      " 2   username        88588 non-null  object \n",
      " 3   wrist           88588 non-null  int64  \n",
      " 4   activity        88588 non-null  int64  \n",
      " 5   acceleration_x  88588 non-null  float64\n",
      " 6   acceleration_y  88588 non-null  float64\n",
      " 7   acceleration_z  88588 non-null  float64\n",
      " 8   gyro_x          88588 non-null  float64\n",
      " 9   gyro_y          88588 non-null  float64\n",
      " 10  gyro_z          88588 non-null  float64\n",
      "dtypes: float64(6), int64(2), object(3)\n",
      "memory usage: 7.4+ MB\n"
     ]
    }
   ],
   "source": [
    "df.info()"
   ]
  },
  {
   "cell_type": "code",
   "execution_count": 6,
   "metadata": {},
   "outputs": [
    {
     "data": {
      "text/plain": [
       "Index(['date', 'time', 'username', 'wrist', 'activity', 'acceleration_x',\n",
       "       'acceleration_y', 'acceleration_z', 'gyro_x', 'gyro_y', 'gyro_z'],\n",
       "      dtype='object')"
      ]
     },
     "execution_count": 6,
     "metadata": {},
     "output_type": "execute_result"
    }
   ],
   "source": [
    "df.columns"
   ]
  },
  {
   "cell_type": "code",
   "execution_count": 10,
   "metadata": {},
   "outputs": [],
   "source": [
    "# Let the target variable ‘y’ be the activity and assign all the columns after it to ‘x’.\n",
    "\n",
    "y = df['activity']\n",
    "x = df.loc[:, \"acceleration_x\":\"gyro_z\"]"
   ]
  },
  {
   "cell_type": "code",
   "execution_count": 20,
   "metadata": {},
   "outputs": [
    {
     "name": "stdout",
     "output_type": "stream",
     "text": [
      "0.9572663355479585\n",
      "              precision    recall  f1-score   support\n",
      "\n",
      "           0       0.93      0.99      0.96     15385\n",
      "           1       0.99      0.92      0.96     15621\n",
      "\n",
      "    accuracy                           0.96     31006\n",
      "   macro avg       0.96      0.96      0.96     31006\n",
      "weighted avg       0.96      0.96      0.96     31006\n",
      "\n"
     ]
    }
   ],
   "source": [
    "\"\"\"\n",
    "Using Scikit-learn fit a Gaussian Naive Bayes model and observe the accuracy.\n",
    "Generate a classification report using scikit learn.\n",
    "\"\"\"\n",
    "\n",
    "x_tr, x_tt, y_tr, y_tt = train_test_split(x, y, test_size=0.35, random_state=157)\n",
    "nb = GaussianNB()\n",
    "nb.fit(x_tr, y_tr)\n",
    "y_pred = nb.predict(x_tt)\n",
    "print(metrics.accuracy_score(y_tt, y_pred))\n",
    "print(metrics.classification_report(y_tt, y_pred))"
   ]
  },
  {
   "cell_type": "code",
   "execution_count": null,
   "metadata": {},
   "outputs": [],
   "source": [
    "\"\"\"\n",
    "Repeat the model once using only the acceleration values as predictors and \n",
    "then using only the gyro values as predictors. Comment on the difference in \n",
    "accuracy between both the models.\n",
    "\"\"\""
   ]
  },
  {
   "cell_type": "code",
   "execution_count": 21,
   "metadata": {},
   "outputs": [
    {
     "name": "stdout",
     "output_type": "stream",
     "text": [
      "0.9572663355479585\n",
      "              precision    recall  f1-score   support\n",
      "\n",
      "           0       0.93      0.99      0.96     15385\n",
      "           1       0.99      0.92      0.96     15621\n",
      "\n",
      "    accuracy                           0.96     31006\n",
      "   macro avg       0.96      0.96      0.96     31006\n",
      "weighted avg       0.96      0.96      0.96     31006\n",
      "\n"
     ]
    }
   ],
   "source": [
    "# Tasking acceleration values as x\n",
    "\n",
    "x = df.loc[:, \"acceleration_x\":\"acceleration_z\"]\n",
    "x_tr, x_tt, y_tr, y_tt = train_test_split(x, y, test_size=0.35, random_state=157)\n",
    "nb.fit(x_tr, y_tr)\n",
    "y_pred = nb.predict(x_tt)\n",
    "print(metrics.accuracy_score(y_tt, y_pred))\n",
    "print(metrics.classification_report(y_tt, y_pred))"
   ]
  },
  {
   "cell_type": "code",
   "execution_count": 22,
   "metadata": {},
   "outputs": [
    {
     "name": "stdout",
     "output_type": "stream",
     "text": [
      "0.6500677288266787\n",
      "              precision    recall  f1-score   support\n",
      "\n",
      "           0       0.62      0.75      0.68     15385\n",
      "           1       0.69      0.55      0.61     15621\n",
      "\n",
      "    accuracy                           0.65     31006\n",
      "   macro avg       0.66      0.65      0.65     31006\n",
      "weighted avg       0.66      0.65      0.65     31006\n",
      "\n"
     ]
    }
   ],
   "source": [
    "# Tasking gyro values as x\n",
    "\n",
    "x = df.loc[:, \"gyro_x\":\"gyro_z\"]\n",
    "x_tr, x_tt, y_tr, y_tt = train_test_split(x, y, test_size=0.35, random_state=157)\n",
    "nb.fit(x_tr, y_tr)\n",
    "y_pred = nb.predict(x_tt)\n",
    "print(metrics.accuracy_score(y_tt, y_pred))\n",
    "print(metrics.classification_report(y_tt, y_pred))"
   ]
  }
 ],
 "metadata": {
  "kernelspec": {
   "display_name": "base",
   "language": "python",
   "name": "python3"
  },
  "language_info": {
   "codemirror_mode": {
    "name": "ipython",
    "version": 3
   },
   "file_extension": ".py",
   "mimetype": "text/x-python",
   "name": "python",
   "nbconvert_exporter": "python",
   "pygments_lexer": "ipython3",
   "version": "3.11.4"
  },
  "orig_nbformat": 4
 },
 "nbformat": 4,
 "nbformat_minor": 2
}
