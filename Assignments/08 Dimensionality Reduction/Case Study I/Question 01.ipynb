{
 "cells": [
  {
   "cell_type": "code",
   "execution_count": null,
   "metadata": {},
   "outputs": [],
   "source": [
    "\"\"\"\n",
    "Objective:\n",
    "    • Understand and practice principal component analysis using scikit learn.\n",
    "\"\"\""
   ]
  },
  {
   "cell_type": "code",
   "execution_count": 23,
   "metadata": {},
   "outputs": [],
   "source": [
    "import pandas as pd\n",
    "from sklearn.datasets import load_digits\n",
    "import matplotlib.pyplot as plt\n",
    "from sklearn.decomposition import PCA\n",
    "from sklearn.linear_model import LogisticRegression\n",
    "from sklearn.model_selection import train_test_split \n",
    "from sklearn.metrics import accuracy_score, confusion_matrix, classification_report"
   ]
  },
  {
   "cell_type": "code",
   "execution_count": 24,
   "metadata": {},
   "outputs": [
    {
     "data": {
      "image/png": "[encoded data removed]",
      "text/plain": [
       "<Figure size 480x480 with 1 Axes>"
      ]
     },
     "metadata": {},
     "output_type": "display_data"
    }
   ],
   "source": [
    "\"\"\"\n",
    "Scikit learn comes with the pre-loaded dataset, load the digits dataset from \n",
    "that collection and write a helper function to plot the image using matplotlib.\n",
    "[Hint: Explore datasets module from scikit learn]\n",
    "\"\"\"\n",
    "\n",
    "digits = load_digits()\n",
    "plt.matshow(digits.images[0])\n",
    "plt.show()"
   ]
  },
  {
   "cell_type": "code",
   "execution_count": 25,
   "metadata": {},
   "outputs": [
    {
     "name": "stderr",
     "output_type": "stream",
     "text": [
      "c:\\Users\\Vishv\\miniconda3\\Lib\\site-packages\\sklearn\\linear_model\\_logistic.py:458: ConvergenceWarning: lbfgs failed to converge (status=1):\n",
      "STOP: TOTAL NO. of ITERATIONS REACHED LIMIT.\n",
      "\n",
      "Increase the number of iterations (max_iter) or scale the data as shown in:\n",
      "    https://scikit-learn.org/stable/modules/preprocessing.html\n",
      "Please also refer to the documentation for alternative solver options:\n",
      "    https://scikit-learn.org/stable/modules/linear_model.html#logistic-regression\n",
      "  n_iter_i = _check_optimize_result(\n"
     ]
    },
    {
     "data": {
      "text/plain": [
       "0.9555555555555556"
      ]
     },
     "execution_count": 25,
     "metadata": {},
     "output_type": "execute_result"
    }
   ],
   "source": [
    "\"\"\"\n",
    "Make a train-test split with 20% of the data set aside for testing. Fit a logistic \n",
    "regression model and observe the accuracy.\n",
    "\"\"\"\n",
    "images = digits.images.reshape(digits.images.shape[0], -1)\n",
    "labels = digits.target\n",
    "\n",
    "x_train, x_test, y_train, y_test = train_test_split(images, labels, test_size=0.2, random_state=157)\n",
    "\n",
    "lrm = LogisticRegression()\n",
    "lrm.fit(x_train, y_train)\n",
    "\n",
    "accuracy_score(y_test, lrm.predict(x_test))"
   ]
  },
  {
   "cell_type": "code",
   "execution_count": 26,
   "metadata": {},
   "outputs": [
    {
     "name": "stdout",
     "output_type": "stream",
     "text": [
      "[0.14550087 0.13562622 0.11864786 0.08535181 0.05845124 0.04903216\n",
      " 0.04433292 0.03647761 0.03328627 0.03017551]\n"
     ]
    }
   ],
   "source": [
    "\"\"\"\n",
    "Using scikit learn perform a PCA transformation such that the transformed \n",
    "dataset can explain 95% of the variance in the original dataset. Find out the \n",
    "number of components in the projected subspace.\n",
    "[Hint: Refer to decomposition module of scikit learn]\n",
    "\"\"\"\n",
    "\n",
    "pca_m = PCA(n_components=10)\n",
    "pca_m.fit(images)\n",
    "pca_m.fit(x_train, y_train)\n",
    "x_train = pca_m.transform(x_train)\n",
    "x_test = pca_m.transform(x_test)\n",
    "\n",
    "print(pca_m.explained_variance_ratio_)"
   ]
  },
  {
   "cell_type": "code",
   "execution_count": 27,
   "metadata": {},
   "outputs": [
    {
     "name": "stderr",
     "output_type": "stream",
     "text": [
      "c:\\Users\\Vishv\\miniconda3\\Lib\\site-packages\\sklearn\\linear_model\\_logistic.py:458: ConvergenceWarning: lbfgs failed to converge (status=1):\n",
      "STOP: TOTAL NO. of ITERATIONS REACHED LIMIT.\n",
      "\n",
      "Increase the number of iterations (max_iter) or scale the data as shown in:\n",
      "    https://scikit-learn.org/stable/modules/preprocessing.html\n",
      "Please also refer to the documentation for alternative solver options:\n",
      "    https://scikit-learn.org/stable/modules/linear_model.html#logistic-regression\n",
      "  n_iter_i = _check_optimize_result(\n"
     ]
    },
    {
     "data": {
      "text/plain": [
       "0.9166666666666666"
      ]
     },
     "execution_count": 27,
     "metadata": {},
     "output_type": "execute_result"
    }
   ],
   "source": [
    "\"\"\"\n",
    "Transform the dataset and fit a logistic regression and observe the accuracy. \n",
    "Compare it with the previous model and comment on the accuracy.\n",
    "[Hint: Project both the train and test samples to the new subspace]\n",
    "\"\"\"\n",
    "\n",
    "lrm = LogisticRegression()\n",
    "lrm.fit(x_train, y_train)\n",
    "y_pred = lrm.predict(x_test)\n",
    "accuracy_score(y_test, y_pred)"
   ]
  },
  {
   "cell_type": "code",
   "execution_count": 30,
   "metadata": {},
   "outputs": [
    {
     "name": "stdout",
     "output_type": "stream",
     "text": [
      "\n",
      "Confusion Matrix:\n",
      " [[40  0  0  0  1  0  1  1  0  0]\n",
      " [ 0 20  0  0  1  0  0  0  4  2]\n",
      " [ 0  1 31  0  1  0  0  0  1  0]\n",
      " [ 0  0  0 41  0  0  0  0  1  0]\n",
      " [ 0  0  0  0 47  0  0  0  0  0]\n",
      " [ 0  0  0  0  0 33  0  0  0  1]\n",
      " [ 0  1  0  0  0  0 39  0  0  0]\n",
      " [ 0  0  0  0  0  0  0 29  1  0]\n",
      " [ 0  4  0  1  1  2  0  0 26  0]\n",
      " [ 0  2  0  2  0  1  0  0  0 24]]\n",
      "\n",
      "Classification Matrix:\n",
      "               precision    recall  f1-score   support\n",
      "\n",
      "           0       1.00      0.93      0.96        43\n",
      "           1       0.71      0.74      0.73        27\n",
      "           2       1.00      0.91      0.95        34\n",
      "           3       0.93      0.98      0.95        42\n",
      "           4       0.92      1.00      0.96        47\n",
      "           5       0.92      0.97      0.94        34\n",
      "           6       0.97      0.97      0.97        40\n",
      "           7       0.97      0.97      0.97        30\n",
      "           8       0.79      0.76      0.78        34\n",
      "           9       0.89      0.83      0.86        29\n",
      "\n",
      "    accuracy                           0.92       360\n",
      "   macro avg       0.91      0.91      0.91       360\n",
      "weighted avg       0.92      0.92      0.92       360\n",
      "\n"
     ]
    }
   ],
   "source": [
    "\"\"\"\n",
    "Compute the confusion matrix and count the number of instances that have\n",
    "gone wrong. For each wrong sample, plot the digit along with the predicted \n",
    "and original label.\n",
    "\"\"\"\n",
    "\n",
    "cf_matrix = confusion_matrix(y_test, y_pred)\n",
    "print(\"\\nConfusion Matrix:\\n\", cf_matrix)\n",
    "report = classification_report(y_test, y_pred)\n",
    "print(\"\\nClassification Matrix:\\n\", report)"
   ]
  }
 ],
 "metadata": {
  "kernelspec": {
   "display_name": "base",
   "language": "python",
   "name": "python3"
  },
  "language_info": {
   "codemirror_mode": {
    "name": "ipython",
    "version": 3
   },
   "file_extension": ".py",
   "mimetype": "text/x-python",
   "name": "python",
   "nbconvert_exporter": "python",
   "pygments_lexer": "ipython3",
   "version": "3.11.4"
  },
  "orig_nbformat": 4
 },
 "nbformat": 4,
 "nbformat_minor": 2
}
