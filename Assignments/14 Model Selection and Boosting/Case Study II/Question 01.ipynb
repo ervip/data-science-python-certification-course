{
 "cells": [
  {
   "cell_type": "code",
   "execution_count": null,
   "metadata": {},
   "outputs": [],
   "source": [
    "\"\"\"\n",
    "Objectives:\n",
    "• Learn to use Cross-validation to pick the best models.\n",
    "\"\"\""
   ]
  },
  {
   "cell_type": "code",
   "execution_count": 34,
   "metadata": {},
   "outputs": [],
   "source": [
    "import pandas as pd\n",
    "import numpy as np\n",
    "import seaborn as sns\n",
    "import matplotlib.pyplot as plt\n",
    "from sklearn import metrics\n",
    "from sklearn.model_selection import train_test_split, cross_val_score\n",
    "from sklearn.tree import DecisionTreeClassifier\n",
    "from sklearn.model_selection import KFold, GridSearchCV\n",
    "from sklearn.ensemble import RandomForestClassifier\n",
    "from warnings import filterwarnings"
   ]
  },
  {
   "cell_type": "code",
   "execution_count": 35,
   "metadata": {},
   "outputs": [],
   "source": [
    "filterwarnings(action='ignore')"
   ]
  },
  {
   "cell_type": "code",
   "execution_count": 36,
   "metadata": {},
   "outputs": [
    {
     "name": "stdout",
     "output_type": "stream",
     "text": [
      "Unique Types\n",
      " [1 2 3 5 6 7]\n"
     ]
    },
    {
     "data": {
      "image/png": "[encoded data removed]",
      "text/plain": [
       "<Figure size 640x480 with 1 Axes>"
      ]
     },
     "metadata": {},
     "output_type": "display_data"
    }
   ],
   "source": [
    "# Load the data from “glass.csv” and make a bar plot of different types of glasses.\n",
    "\n",
    "CSV_PATH = r'D:\\CourseWork\\data-science-python-certification-course\\Assignments\\14 Model Selection and Boosting\\Case Study II\\resources\\glass.csv'\n",
    "df = pd.read_csv(CSV_PATH)\n",
    "print(\"Unique Types\\n\", df['Type'].unique())\n",
    "plt.bar(*np.unique(df['Type'], return_counts=True))\n",
    "plt.show()"
   ]
  },
  {
   "cell_type": "code",
   "execution_count": 37,
   "metadata": {},
   "outputs": [],
   "source": [
    "X = df.iloc[:, 0:9]\n",
    "Y = df[\"Type\"]"
   ]
  },
  {
   "cell_type": "code",
   "execution_count": 38,
   "metadata": {},
   "outputs": [],
   "source": [
    "train_x, test_x, train_y, test_y = train_test_split(X, Y, random_state=57, test_size=0.35)"
   ]
  },
  {
   "cell_type": "code",
   "execution_count": 39,
   "metadata": {},
   "outputs": [
    {
     "name": "stdout",
     "output_type": "stream",
     "text": [
      "Accuracy Score: 0.6666666666666666\n",
      "Root Mean Squared Error: 2.1466666666666665\n"
     ]
    }
   ],
   "source": [
    "dtm = DecisionTreeClassifier()\n",
    "dtm.fit(train_x, train_y)\n",
    "predicted = dtm.predict(test_x)\n",
    "print(\"Accuracy Score:\", metrics.accuracy_score(test_y, predicted))\n",
    "print(\"Root Mean Squared Error:\", metrics.mean_squared_error(test_y, predicted))\n"
   ]
  },
  {
   "cell_type": "code",
   "execution_count": 40,
   "metadata": {},
   "outputs": [],
   "source": [
    "kf = KFold(n_splits=3)"
   ]
  },
  {
   "cell_type": "code",
   "execution_count": 41,
   "metadata": {},
   "outputs": [
    {
     "name": "stdout",
     "output_type": "stream",
     "text": [
      "Accuracy Score : 0.013888888888888888\n",
      "Accuracy Score : 0.30985915492957744\n",
      "Accuracy Score : 0.0\n",
      "Cross Value Score: 0.5559467918622848\n"
     ]
    }
   ],
   "source": [
    "for train_index, test_index in kf.split(X):\n",
    "    x_train, x_test = X.loc[train_index], X.loc[test_index]\n",
    "    y_train, y_test = Y[train_index], Y[test_index]\n",
    "\n",
    "    dtm.fit(x_train, y_train)\n",
    "    predicted = dtm.predict(x_test)\n",
    "    print(\"Accuracy Score :\", metrics.accuracy_score(predicted[0:], y_test.values))\n",
    "\n",
    "\n",
    "print(\"Cross Value Score:\", cross_val_score(dtm, X, Y, cv=3, scoring=\"accuracy\").mean())"
   ]
  },
  {
   "cell_type": "code",
   "execution_count": 44,
   "metadata": {},
   "outputs": [
    {
     "name": "stdout",
     "output_type": "stream",
     "text": [
      "{'max_features': 'sqrt', 'n_estimators': 100}\n"
     ]
    }
   ],
   "source": [
    "rfc = RandomForestClassifier(\n",
    "    n_jobs=-1, max_features='sqrt', n_estimators=50, oob_score=True)\n",
    "parameter_candidates = [{1}, {2}]\n",
    "param_grid = {\n",
    "    'n_estimators': [100, 200],\n",
    "    'max_features': ['auto', 'sqrt', 'log2']\n",
    "}\n",
    "\n",
    "CV_rfc = GridSearchCV(estimator=rfc, param_grid=param_grid, cv=5)\n",
    "CV_rfc.fit(X, Y)\n",
    "print(CV_rfc.best_params_)"
   ]
  },
  {
   "cell_type": "code",
   "execution_count": 45,
   "metadata": {},
   "outputs": [
    {
     "name": "stdout",
     "output_type": "stream",
     "text": [
      "[0.63636364 0.72727273 0.81818182 0.72727273 0.71428571 0.80952381\n",
      " 0.9047619  0.47619048 0.80952381 0.85714286]\n"
     ]
    }
   ],
   "source": [
    "rfc = RandomForestClassifier(\n",
    "    n_jobs=-1, max_features='auto', n_estimators=200, oob_score=True)\n",
    "print(cross_val_score(rfc, X, Y, cv=10, scoring='accuracy'))"
   ]
  }
 ],
 "metadata": {
  "kernelspec": {
   "display_name": "base",
   "language": "python",
   "name": "python3"
  },
  "language_info": {
   "codemirror_mode": {
    "name": "ipython",
    "version": 3
   },
   "file_extension": ".py",
   "mimetype": "text/x-python",
   "name": "python",
   "nbconvert_exporter": "python",
   "pygments_lexer": "ipython3",
   "version": "3.11.4"
  },
  "orig_nbformat": 4
 },
 "nbformat": 4,
 "nbformat_minor": 2
}
